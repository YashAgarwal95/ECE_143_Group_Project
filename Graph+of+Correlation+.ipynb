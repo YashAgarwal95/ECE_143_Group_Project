{
 "cells": [
  {
   "cell_type": "code",
   "execution_count": null,
   "metadata": {
    "collapsed": true
   },
   "outputs": [],
   "source": [
    "import pandas as pd\n",
    "# select Region and Income Group to apply on df\n",
    "countryDf = pd.read_csv(\"EdStatsCountry.csv\")\n",
    "countryDf = countryDf.iloc[:,[0,7,8]]\n",
    "\n",
    "df = pd.read_csv(\"EdStatsData.csv\")\n",
    "df = df.iloc[91625:886930,:49]\n",
    "df = df.join(countryDf.set_index('Country Code'), on='Country Code')\n",
    "# rearrange cols index\n",
    "cols = df.columns.tolist()\n",
    "cols = cols[:2] + cols[-2:] + cols[2:-2]\n",
    "df = df[cols]"
   ]
  },
  {
   "cell_type": "code",
   "execution_count": null,
   "metadata": {
    "collapsed": true
   },
   "outputs": [],
   "source": [
    "def dfGroupByIdc(x, input_df = df):\n",
    "    # 217 rows × 51(45) columns, [6,50]\n",
    "    import pandas as pd\n",
    "    assert isinstance(x, str)\n",
    "    assert isinstance(input_df, pd.core.frame.DataFrame)\n",
    "    \n",
    "    x_df = input_df[(input_df['Indicator Code']== x)]\n",
    "    return x_df"
   ]
  },
  {
   "cell_type": "code",
   "execution_count": null,
   "metadata": {
    "collapsed": true
   },
   "outputs": [],
   "source": [
    "def pearson(x_df, y_df, thresh = 22):    \n",
    "    import pandas as pd\n",
    "    import scipy.stats as sc\n",
    "    \n",
    "    assert isinstance(x_df, pd.core.frame.DataFrame)\n",
    "    assert isinstance(y_df, pd.core.frame.DataFrame)\n",
    "    assert len(x_df) == len(y_df)\n",
    "    assert 0 <= thresh <=45\n",
    "    \n",
    "    # if x has corresponding y of each country for more than thresh,\n",
    "    # it counts as a useful data.\n",
    "    r = []\n",
    "    for i in range(len(x_df)):\n",
    "        count = 0\n",
    "        x_lst=[]\n",
    "        y_lst=[]\n",
    "        for k in range(6,51):\n",
    "            if(pd.notnull(y_df.iloc[i,k]) and pd.notnull(x_df.iloc[i,k])):\n",
    "                y_lst.append(y_df.iloc[i,k])\n",
    "                x_lst.append(x_df.iloc[i,k])\n",
    "                count+=1\n",
    "        if count >= thresh:\n",
    "            r.append(sc.pearsonr(x_lst, y_lst)[0])\n",
    "    mean = sum([i for i in r])/len(r)\n",
    "    return (r, mean)"
   ]
  },
  {
   "cell_type": "code",
   "execution_count": null,
   "metadata": {
    "collapsed": true
   },
   "outputs": [],
   "source": [
    "def histplot(r):\n",
    "    import matplotlib.pyplot as plt\n",
    "    import numpy as np\n",
    "    bins=np.arange(-1,1,0.125)\n",
    "    plt.hist(r,bins,alpha=0.7,edgecolor='black')\n",
    "    plt.show()"
   ]
  },
  {
   "cell_type": "code",
   "execution_count": null,
   "metadata": {
    "collapsed": true
   },
   "outputs": [],
   "source": [
    "# world\n",
    "# Gross enrolment ratio, primary to tertiary, both sexes (%)\n",
    "# GNI (current US$)\n",
    "x = dfGroupByIdc('SE.TOT.ENRR')\n",
    "y = dfGroupByIdc('NY.GNP.MKTP.CD')\n",
    "histplot(pearson(x, y,28)[0])\n",
    "print(pearson(x, y,28)[1])"
   ]
  }
 ],
 "metadata": {
  "kernelspec": {
   "display_name": "Python 3",
   "language": "python",
   "name": "python3"
  },
  "language_info": {
   "codemirror_mode": {
    "name": "ipython",
    "version": 3
   },
   "file_extension": ".py",
   "mimetype": "text/x-python",
   "name": "python",
   "nbconvert_exporter": "python",
   "pygments_lexer": "ipython3",
   "version": "3.6.1"
  }
 },
 "nbformat": 4,
 "nbformat_minor": 2
}
